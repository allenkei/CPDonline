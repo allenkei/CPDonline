{
 "cells": [
  {
   "cell_type": "code",
   "execution_count": null,
   "metadata": {
    "id": "2NCMhAY6U608"
   },
   "outputs": [],
   "source": [
    "%cd /content/drive/MyDrive/Research/CPD_online"
   ]
  },
  {
   "cell_type": "code",
   "execution_count": null,
   "metadata": {
    "id": "5HkTK-CNBW2v"
   },
   "outputs": [],
   "source": [
    "!python sim_data_s1.py"
   ]
  },
  {
   "cell_type": "code",
   "execution_count": null,
   "metadata": {
    "id": "JlmCMAucCt8W"
   },
   "outputs": [],
   "source": [
    "%rm -rf result/s1\n",
    "!python cpd_online_sim.py"
   ]
  }
 ],
 "metadata": {
  "colab": {
   "provenance": []
  },
  "kernelspec": {
   "display_name": "Python 3",
   "name": "python3"
  },
  "language_info": {
   "name": "python"
  }
 },
 "nbformat": 4,
 "nbformat_minor": 0
}
